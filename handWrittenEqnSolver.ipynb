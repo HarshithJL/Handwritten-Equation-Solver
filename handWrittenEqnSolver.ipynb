{
 "cells": [
  {
   "cell_type": "code",
   "execution_count": 1,
   "metadata": {
    "colab": {
     "base_uri": "https://localhost:8080/",
     "height": 121
    },
    "colab_type": "code",
    "executionInfo": {
     "elapsed": 30671,
     "status": "ok",
     "timestamp": 1585306913368,
     "user": {
      "displayName": "Harshith JL",
      "photoUrl": "",
      "userId": "00026051486428870633"
     },
     "user_tz": -330
    },
    "id": "NHVj8bHPxLZG",
    "outputId": "7ab15945-bd55-48de-a81b-840628c4468e"
   },
   "outputs": [
    {
     "ename": "ModuleNotFoundError",
     "evalue": "No module named 'google.colab'",
     "output_type": "error",
     "traceback": [
      "\u001b[1;31m---------------------------------------------------------------------------\u001b[0m",
      "\u001b[1;31mModuleNotFoundError\u001b[0m                       Traceback (most recent call last)",
      "\u001b[1;32m<ipython-input-1-d5df0069828e>\u001b[0m in \u001b[0;36m<module>\u001b[1;34m\u001b[0m\n\u001b[1;32m----> 1\u001b[1;33m \u001b[1;32mfrom\u001b[0m \u001b[0mgoogle\u001b[0m\u001b[1;33m.\u001b[0m\u001b[0mcolab\u001b[0m \u001b[1;32mimport\u001b[0m \u001b[0mdrive\u001b[0m\u001b[1;33m\u001b[0m\u001b[0m\n\u001b[0m\u001b[0;32m      2\u001b[0m \u001b[0mdrive\u001b[0m\u001b[1;33m.\u001b[0m\u001b[0mmount\u001b[0m\u001b[1;33m(\u001b[0m\u001b[1;34m'/content/drive'\u001b[0m\u001b[1;33m)\u001b[0m\u001b[1;33m\u001b[0m\u001b[0m\n",
      "\u001b[1;31mModuleNotFoundError\u001b[0m: No module named 'google.colab'"
     ]
    }
   ],
   "source": [
    "from google.colab import drive\n",
    "drive.mount('/content/drive')"
   ]
  },
  {
   "cell_type": "code",
   "execution_count": 0,
   "metadata": {
    "colab": {},
    "colab_type": "code",
    "id": "Xnc30VFjx5x-"
   },
   "outputs": [],
   "source": [
    "!pip install -q keras\n"
   ]
  },
  {
   "cell_type": "code",
   "execution_count": 3,
   "metadata": {
    "colab": {
     "base_uri": "https://localhost:8080/",
     "height": 79
    },
    "colab_type": "code",
    "executionInfo": {
     "elapsed": 5094,
     "status": "ok",
     "timestamp": 1585306924966,
     "user": {
      "displayName": "Harshith JL",
      "photoUrl": "",
      "userId": "00026051486428870633"
     },
     "user_tz": -330
    },
    "id": "pocgqPucyHLA",
    "outputId": "ff07bffa-07dd-4c60-e2aa-0d46cbaee507"
   },
   "outputs": [
    {
     "name": "stderr",
     "output_type": "stream",
     "text": [
      "Using TensorFlow backend.\n"
     ]
    },
    {
     "data": {
      "text/html": [
       "<p style=\"color: red;\">\n",
       "The default version of TensorFlow in Colab will switch to TensorFlow 2.x on the 27th of March, 2020.<br>\n",
       "We recommend you <a href=\"https://www.tensorflow.org/guide/migrate\" target=\"_blank\">upgrade</a> now\n",
       "or ensure your notebook will continue to use TensorFlow 1.x via the <code>%tensorflow_version 1.x</code> magic:\n",
       "<a href=\"https://colab.research.google.com/notebooks/tensorflow_version.ipynb\" target=\"_blank\">more info</a>.</p>\n"
      ],
      "text/plain": [
       "<IPython.core.display.HTML object>"
      ]
     },
     "metadata": {
      "tags": []
     },
     "output_type": "display_data"
    }
   ],
   "source": [
    "import keras"
   ]
  },
  {
   "cell_type": "code",
   "execution_count": 29,
   "metadata": {
    "colab": {
     "base_uri": "https://localhost:8080/",
     "height": 118
    },
    "colab_type": "code",
    "executionInfo": {
     "elapsed": 5158,
     "status": "ok",
     "timestamp": 1585312248462,
     "user": {
      "displayName": "Harshith JL",
      "photoUrl": "",
      "userId": "00026051486428870633"
     },
     "user_tz": -330
    },
    "id": "UeaDGE8UyOoe",
    "outputId": "e7ba5ace-a959-4be7-95af-264437309910"
   },
   "outputs": [
    {
     "name": "stdout",
     "output_type": "stream",
     "text": [
      "Enter choice\n",
      "cubic\n",
      "[]\n",
      "[]\n",
      "[]\n",
      "[]\n"
     ]
    }
   ],
   "source": [
    "\n",
    "import numpy as np\n",
    "import cv2\n",
    "import operator\n",
    "from keras.models import Sequential\n",
    "from keras.preprocessing.image import ImageDataGenerator\n",
    "from keras.layers import Dense\n",
    "from keras.layers import Dropout\n",
    "from keras.layers import Flatten\n",
    "from keras.layers.convolutional import Conv2D\n",
    "from keras.layers.convolutional import MaxPooling2D\n",
    "from keras.utils import np_utils\n",
    "from keras.models import model_from_json\n",
    "\n",
    "MIN_CONTOUR_AREA = 100\n",
    "\n",
    "RESIZED_IMAGE_WIDTH = 45\n",
    "RESIZED_IMAGE_HEIGHT = 45\n",
    "\n",
    "class ContourWithData():\n",
    "    npaContour = None           # contour\n",
    "    boundingRect = None         # bounding rect for contour\n",
    "    intRectX = 0                # bounding rect top left corner x location\n",
    "    intRectY = 0                # bounding rect top left corner y location\n",
    "    intRectWidth = 0            # bounding rect width\n",
    "    intRectHeight = 0           # bounding rect height\n",
    "    fltArea = 0.0               # area of contour\n",
    "\n",
    "    def calculateRectTopLeftPointAndWidthAndHeight(self):               # calculate bounding rect info\n",
    "        [intX, intY, intWidth, intHeight] = self.boundingRect\n",
    "        self.intRectX = intX\n",
    "        self.intRectY = intY\n",
    "        self.intRectWidth = intWidth\n",
    "        self.intRectHeight = intHeight\n",
    "\n",
    "    def checkIfContourIsValid(self):                            \n",
    "        if self.fltArea < MIN_CONTOUR_AREA: return False       \n",
    "        return True\n",
    "\n",
    "def load_model():\n",
    "    try:\n",
    "        #Loading the model\n",
    "        json_file = open(r\"/content/drive/My Drive/Colab Notebooks/model.json\", 'r')\n",
    "        loaded_model_json = json_file.read()\n",
    "        json_file.close()\n",
    "        model = model_from_json(loaded_model_json)\n",
    "        model.load_weights(r\"/content/drive/My Drive/Colab Notebooks/weights.hdf5\")\n",
    "        print(\"Model successfully loaded from disk.\")\n",
    "\n",
    "        #compile the model again\n",
    "        model.compile(optimizer = 'adam', loss = 'categorical_crossentropy', metrics = ['accuracy'])\n",
    "        return model\n",
    "    except:\n",
    "        print(\"\"\"Model not found\"\"\")\n",
    "        return None\n",
    "\n",
    "def quadratic(b):\n",
    "    X = []\n",
    "    A=b[0]\n",
    "    B=b[1]\n",
    "    C=b[2]\n",
    "    D=(B**2-(4*A*C))\n",
    "    D1=(4*A*C-(B**2))\n",
    "\n",
    "    if D>0:\n",
    "        r1=(-B+np.sqrt(D))/2*A\n",
    "        r2=(-B-np.sqrt(D))/2*A\n",
    "\n",
    "    elif D==0:\n",
    "        r1=-B/2*A\n",
    "        r2=r1\n",
    "    elif D<0:\n",
    "        r1=(-B+1j*np.sqrt(D1))/2*A\n",
    "        r2=(-B-1j*np.sqrt(D1))/2*A\n",
    "        \n",
    "    print('Root 1 : ',r1)\n",
    "    print('Root 2 : ',r2)\n",
    "\n",
    "def linear(new):\n",
    "  l = new[1]\n",
    "  if(l>0):\n",
    "    l=-l\n",
    "  return (l/new[0])\n",
    "\n",
    "print(\"Enter choice\")\n",
    "ch = input()\n",
    "allContoursWithData = []\n",
    "validContoursWithData = []\n",
    "img = cv2.imread('/content/drive/My Drive/Colab Notebooks/cubic.png')\n",
    "gray = cv2.cvtColor(img,cv2.COLOR_BGR2GRAY)\n",
    "imgBlurred = cv2.GaussianBlur(gray, (1,1), 0)\n",
    "ret,imgThresh = cv2.threshold(imgBlurred,95,255,cv2.THRESH_BINARY_INV+cv2.THRESH_OTSU)\n",
    "npaContours,npaHierarchy = cv2.findContours(imgThresh,cv2.RETR_EXTERNAL,cv2.CHAIN_APPROX_SIMPLE)\n",
    "\n",
    "imgThresh2= cv2.bitwise_not(imgThresh)\n",
    "for npaContour in npaContours:\n",
    "        contourWithData = ContourWithData()                                             # instantiate a contour with data object\n",
    "        contourWithData.npaContour = npaContour                                         # assign contour to contour with data\n",
    "        contourWithData.boundingRect = cv2.boundingRect(contourWithData.npaContour)     # get the bounding rect\n",
    "        contourWithData.calculateRectTopLeftPointAndWidthAndHeight()                    # get bounding rect info\n",
    "        contourWithData.fltArea = cv2.contourArea(contourWithData.npaContour)           # calculate the contour area\n",
    "        allContoursWithData.append(contourWithData)\n",
    "\n",
    "for contourWithData in allContoursWithData:                 # for all contours\n",
    "        if contourWithData.checkIfContourIsValid():             # check if valid\n",
    "            validContoursWithData.append(contourWithData)       # if so, append to valid contour list\n",
    "\n",
    "\n",
    "validContoursWithData.sort(key = operator.attrgetter(\"intRectX\"))\n",
    "n = len(validContoursWithData)       # sort contours from left to right\n",
    "del validContoursWithData[n-3:]\n",
    "\n",
    "test_data = []\n",
    "\n",
    "for contourWithData in validContoursWithData:            # for each contour\n",
    "        imgROI = imgThresh2[contourWithData.intRectY : contourWithData.intRectY + contourWithData.intRectHeight+5,     \n",
    "                           contourWithData.intRectX : contourWithData.intRectX + contourWithData.intRectWidth+5]\n",
    "\n",
    "        im_resize = cv2.resize(imgROI,(RESIZED_IMAGE_WIDTH, RESIZED_IMAGE_HEIGHT),interpolation=cv2.INTER_AREA)\n",
    "        test_data.append(im_resize)\n",
    "\n",
    "\n",
    "index = []\n",
    "\n",
    "var = ['x','y','z']\n",
    "numbers = ['1','2','3','4','5','6','7','8','9']\n",
    "symbol = ['+','-']\n",
    "\n",
    "first = True\n",
    "for i in test_data:\n",
    "    model = load_model()\n",
    "    if model is not None:\n",
    "        classes=[ '-',\"(\" , \")\" ,  \"+\"  ,\"-\", \"0\" , \"1\" , \"2\" , \"3\" , \"4\" , \"5\" , \"6\" , \"7\" , \"8\" , \"9\" ,\"=\", \"x\" , \"y\" , \"z\"]\n",
    "        \n",
    "        img = i\n",
    "\n",
    "        x=img\n",
    "        print('The symbol is')\n",
    "        img=img.reshape((1,)+img.shape)\n",
    "        img=img.reshape(img.shape+(1,))\n",
    "        test_datagen = ImageDataGenerator(rescale=1./255)\n",
    "        m=test_datagen.flow(img,batch_size=1)\n",
    "        y_pred=model.predict_generator(m,1)\n",
    "        # print(list(y_pred[0]).index(y_pred[0].max())+1)\n",
    "        print(classes[list(y_pred[0]).index(y_pred[0].max())+1])\n",
    "        if(first):\n",
    "          if(classes[list(y_pred[0]).index(y_pred[0].max())+1] in var):\n",
    "            index.append('1')\n",
    "            index.append(classes[list(y_pred[0]).index(y_pred[0].max())+1])\n",
    "          else:\n",
    "            index.append(classes[list(y_pred[0]).index(y_pred[0].max())+1])\n",
    "          first =False\n",
    "        else:\n",
    "            index.append(classes[list(y_pred[0]).index(y_pred[0].max())+1])  \n",
    "\n",
    "\n",
    "\n",
    "print(index)\n",
    "coefficients = []\n",
    "\n",
    "i=0\n",
    "while(i<len(index)):\n",
    "    l = index[i]\n",
    "    if l in numbers or l in symbol:\n",
    "        coefficients.append(index[i])\n",
    "    elif l in var :\n",
    "        if (i+1 < (len(index)) and index[i+1] in numbers):\n",
    "            i+=1\n",
    "    i+=1\n",
    "\n",
    "print(coefficients)\n",
    "\n",
    "new = []\n",
    "i=0\n",
    "while(i<len(coefficients)):\n",
    "    l = coefficients[i]\n",
    "    if(i==0):\n",
    "      new.append(int(l))\n",
    "    elif l in symbol:\n",
    "        if(i+1 < len(coefficients)):\n",
    "            if(coefficients[i+1] in numbers):\n",
    "                if l =='+':\n",
    "                    new.append(int(coefficients[i+1]))\n",
    "                elif l == '-':\n",
    "                    new.append(-int(coefficients[i+1]))\n",
    "            else:\n",
    "                if l =='+':\n",
    "                    new.append(1)\n",
    "                elif l == '-':\n",
    "                    new.append(-1)\n",
    "    i+=1\n",
    "print(new)\n",
    "# new.append(0)\n",
    "if ch == 'quadratic':\n",
    "  quadratic(new)\n",
    "elif ch =='linear':\n",
    "  print(linear(new))\n",
    "elif ch == 'cubic':\n",
    "  print(np.roots(new))"
   ]
  },
  {
   "cell_type": "code",
   "execution_count": 0,
   "metadata": {
    "colab": {
     "base_uri": "https://localhost:8080/",
     "height": 34
    },
    "colab_type": "code",
    "executionInfo": {
     "elapsed": 1112,
     "status": "ok",
     "timestamp": 1584193629586,
     "user": {
      "displayName": "Harshith JL",
      "photoUrl": "",
      "userId": "00026051486428870633"
     },
     "user_tz": -330
    },
    "id": "wJf_6ztcyugJ",
    "outputId": "40e0fa62-5c2e-4045-d1d9-955a02b60444"
   },
   "outputs": [
    {
     "name": "stdout",
     "output_type": "stream",
     "text": [
      "Bye\n"
     ]
    }
   ],
   "source": []
  }
 ],
 "metadata": {
  "colab": {
   "authorship_tag": "ABX9TyPRYrZ1xvjiCybgrv1PFVjn",
   "collapsed_sections": [],
   "name": "handWrittenEqnSolver.ipynb",
   "provenance": [],
   "toc_visible": true
  },
  "kernelspec": {
   "display_name": "Python 3",
   "language": "python",
   "name": "python3"
  },
  "language_info": {
   "codemirror_mode": {
    "name": "ipython",
    "version": 3
   },
   "file_extension": ".py",
   "mimetype": "text/x-python",
   "name": "python",
   "nbconvert_exporter": "python",
   "pygments_lexer": "ipython3",
   "version": "3.6.6"
  }
 },
 "nbformat": 4,
 "nbformat_minor": 1
}
